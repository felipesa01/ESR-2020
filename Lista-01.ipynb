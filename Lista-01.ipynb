{
 "cells": [
  {
   "cell_type": "code",
   "execution_count": 1,
   "metadata": {},
   "outputs": [],
   "source": [
    "import statistics as st\n",
    "import numpy as np\n",
    "from matplotlib import pyplot as plt"
   ]
  },
  {
   "cell_type": "markdown",
   "metadata": {},
   "source": [
    "## Questão 2"
   ]
  },
  {
   "cell_type": "markdown",
   "metadata": {},
   "source": [
    "Os cálculos da questão 2 foram executados aqui apenas para fins de confirmação dos resultados, visto que a resolução final foi realizada através da transformação linear, como descrito no pdf."
   ]
  },
  {
   "cell_type": "code",
   "execution_count": 2,
   "metadata": {},
   "outputs": [],
   "source": [
    "X = list(range(1000,10001, 5))"
   ]
  },
  {
   "cell_type": "code",
   "execution_count": 3,
   "metadata": {},
   "outputs": [
    {
     "name": "stdout",
     "output_type": "stream",
     "text": [
      "Série\n",
      "[ 1000  1005  1010 ...  9990  9995 10000]\n"
     ]
    }
   ],
   "source": [
    "Xarray = np.array(X)\n",
    "\n",
    "print(\"Série\")\n",
    "print(Xarray)"
   ]
  },
  {
   "cell_type": "code",
   "execution_count": 4,
   "metadata": {},
   "outputs": [
    {
     "name": "stdout",
     "output_type": "stream",
     "text": [
      "Série resultado da transformação\n",
      "[1.000e+00 2.000e+00 3.000e+00 ... 1.799e+03 1.800e+03 1.801e+03]\n"
     ]
    }
   ],
   "source": [
    "Y = [x/5 - 199 for x in X]\n",
    "Yarray = np.array(Y)\n",
    "\n",
    "print(\"Série resultado da transformação\")\n",
    "print(Yarray)"
   ]
  },
  {
   "cell_type": "code",
   "execution_count": 5,
   "metadata": {},
   "outputs": [
    {
     "name": "stdout",
     "output_type": "stream",
     "text": [
      "Valores obitidos pela subtração X - X\n",
      "[[    0    -5   -10 ... -8990 -8995 -9000]\n",
      " [    5     0    -5 ... -8985 -8990 -8995]\n",
      " [   10     5     0 ... -8980 -8985 -8990]\n",
      " ...\n",
      " [ 8990  8985  8980 ...     0    -5   -10]\n",
      " [ 8995  8990  8985 ...     5     0    -5]\n",
      " [ 9000  8995  8990 ...    10     5     0]]\n",
      "\n",
      "Máx = 9000\n",
      "Min = -9000\n",
      "\n",
      "Média = 0.0\n",
      "Variancia = 13515000.0\n"
     ]
    }
   ],
   "source": [
    "S = Xarray[:,None] - Xarray\n",
    "\n",
    "print(\"Valores obitidos pela subtração X - X\")\n",
    "print(S)\n",
    "print()\n",
    "print(\"Máx =\", np.max(S))\n",
    "print(\"Min =\", np.min(S))\n",
    "print()\n",
    "print(\"Média =\", np.mean(S))\n",
    "print(\"Variancia =\", np.var(S))"
   ]
  },
  {
   "cell_type": "markdown",
   "metadata": {},
   "source": [
    "## Questão 4"
   ]
  },
  {
   "cell_type": "markdown",
   "metadata": {},
   "source": [
    "### Item A"
   ]
  },
  {
   "cell_type": "code",
   "execution_count": 6,
   "metadata": {},
   "outputs": [],
   "source": [
    "# Definição da série\n",
    "Z = []\n",
    "for i in range(20):\n",
    "    Z.append(1)\n",
    "    Z.append(5)\n",
    "for i in range(60):\n",
    "    Z.append(10)\n",
    "    \n",
    "Z.sort()"
   ]
  },
  {
   "cell_type": "code",
   "execution_count": 7,
   "metadata": {},
   "outputs": [
    {
     "name": "stdout",
     "output_type": "stream",
     "text": [
      "Série\n",
      "[ 1  1  1  1  1  1  1  1  1  1  1  1  1  1  1  1  1  1  1  1  5  5  5  5\n",
      "  5  5  5  5  5  5  5  5  5  5  5  5  5  5  5  5 10 10 10 10 10 10 10 10\n",
      " 10 10 10 10 10 10 10 10 10 10 10 10 10 10 10 10 10 10 10 10 10 10 10 10\n",
      " 10 10 10 10 10 10 10 10 10 10 10 10 10 10 10 10 10 10 10 10 10 10 10 10\n",
      " 10 10 10 10]\n"
     ]
    }
   ],
   "source": [
    "# Criação de um array baseado na série\n",
    "Zarray = np.array(Z)\n",
    "\n",
    "print(\"Série\")\n",
    "print(Zarray)"
   ]
  },
  {
   "cell_type": "code",
   "execution_count": 8,
   "metadata": {},
   "outputs": [
    {
     "name": "stdout",
     "output_type": "stream",
     "text": [
      "Série original:\n",
      "Média = 7.2\n",
      "Mediana = 10.0\n",
      "Moda = 10\n"
     ]
    }
   ],
   "source": [
    "# Para não fazer uso apenas das funções já prontas da biblioteca, a média abaixo foi\n",
    "# calculada via equação passada em aula (apenas como exercício).\n",
    "Z_valores, Z_propabilidades = np.unique(Zarray, return_counts=True)\n",
    "Media_Z = (Z_valores * Z_propabilidades/Zarray.size).sum()\n",
    "\n",
    "print(\"Série original:\")\n",
    "print(\"Média =\", Media_Z)\n",
    "print(\"Mediana =\", np.median(Zarray))\n",
    "print(\"Moda =\", st.mode(Zarray))"
   ]
  },
  {
   "cell_type": "markdown",
   "metadata": {},
   "source": [
    "### Item B"
   ]
  },
  {
   "cell_type": "code",
   "execution_count": 9,
   "metadata": {},
   "outputs": [
    {
     "name": "stdout",
     "output_type": "stream",
     "text": [
      "Série depois da modificação\n",
      "[   1    1    1    1    1    1    1    1    1    1    1    1    1    1\n",
      "    1    1    1    1    1    5    5    5    5    5    5    5    5    5\n",
      "    5    5    5    5    5    5    5    5    5    5    5   10   10   10\n",
      "   10   10   10   10   10   10   10   10   10   10   10   10   10   10\n",
      "   10   10   10   10   10   10   10   10   10   10   10   10   10   10\n",
      "   10   10   10   10   10   10   10   10   10   10   10   10   10   10\n",
      "   10   10   10   10   10   10   10   10   10   10   10   10   10   10\n",
      "   10 1000]\n"
     ]
    }
   ],
   "source": [
    "# Copiar série\n",
    "Zarray_novo = np.copy(Zarray)\n",
    "\n",
    "# Substituir um dos valores [1] por [1000]\n",
    "Zarray_novo[0] = 1000\n",
    "\n",
    "# Ordenar série modificada\n",
    "Zarray_novo = np.sort(Zarray_novo)\n",
    "\n",
    "print(\"Série depois da modificação\")\n",
    "print(Zarray_novo)"
   ]
  },
  {
   "cell_type": "code",
   "execution_count": 10,
   "metadata": {
    "scrolled": true
   },
   "outputs": [
    {
     "name": "stdout",
     "output_type": "stream",
     "text": [
      "Série modificada:\n",
      "Média = 17.19\n",
      "Mediana = 10.0\n",
      "Moda = 10\n"
     ]
    }
   ],
   "source": [
    "print(\"Série modificada:\")\n",
    "print(\"Média =\", np.mean(Zarray_novo))\n",
    "print(\"Mediana =\", np.median(Zarray_novo))\n",
    "print(\"Moda =\", st.mode(Zarray_novo))"
   ]
  },
  {
   "cell_type": "markdown",
   "metadata": {},
   "source": [
    "### Item C"
   ]
  },
  {
   "cell_type": "code",
   "execution_count": 11,
   "metadata": {},
   "outputs": [
    {
     "name": "stdout",
     "output_type": "stream",
     "text": [
      "Desvio padrão da série original = 3.655133376499413\n",
      "Desvio padrão da série modificada = 98.84176192278241\n"
     ]
    }
   ],
   "source": [
    "print(\"Desvio padrão da série original =\",np.std(Zarray))\n",
    "print(\"Desvio padrão da série modificada =\",np.std(Zarray_novo))"
   ]
  },
  {
   "cell_type": "code",
   "execution_count": null,
   "metadata": {},
   "outputs": [],
   "source": []
  }
 ],
 "metadata": {
  "kernelspec": {
   "display_name": "Python (NeoGeo)",
   "language": "python",
   "name": "neogeo"
  },
  "language_info": {
   "codemirror_mode": {
    "name": "ipython",
    "version": 3
   },
   "file_extension": ".py",
   "mimetype": "text/x-python",
   "name": "python",
   "nbconvert_exporter": "python",
   "pygments_lexer": "ipython3",
   "version": "3.7.7"
  }
 },
 "nbformat": 4,
 "nbformat_minor": 4
}
